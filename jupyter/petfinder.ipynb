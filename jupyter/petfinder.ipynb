{
 "cells": [
  {
   "cell_type": "code",
   "execution_count": 15,
   "metadata": {},
   "outputs": [],
   "source": [
    "import json\n",
    "\n",
    "file = '..//data/test.json'\n",
    "\n",
    "with open(file, encoding='utf-8-sig') as jsonFile:\n",
    "    data = json.load(jsonFile)\n",
    "    animalData = (data[\"animals\"])"
   ]
  },
  {
   "cell_type": "code",
   "execution_count": 16,
   "metadata": {},
   "outputs": [],
   "source": [
    "# Returns all the breeds of animals at the shelter\n",
    "def getBreeds():\n",
    "    for pet in animalData:\n",
    "        breeds = (pet['breeds']['primary'])\n",
    "        print(breeds)\n",
    "        breedsArr.append(breeds)"
   ]
  },
  {
   "cell_type": "code",
   "execution_count": 22,
   "metadata": {},
   "outputs": [],
   "source": [
    "breedsArr =[]"
   ]
  },
  {
   "cell_type": "code",
   "execution_count": 23,
   "metadata": {},
   "outputs": [
    {
     "name": "stdout",
     "output_type": "stream",
     "text": [
      "Schnauzer\n",
      "Jack Russell Terrier\n",
      "Labrador Retriever\n",
      "Border Collie\n",
      "Chihuahua\n",
      "Chihuahua\n",
      "Catahoula Leopard Dog\n",
      "German Shepherd Dog\n",
      "Australian Shepherd\n",
      "Border Collie\n",
      "Havanese\n",
      "Pit Bull Terrier\n",
      "German Shepherd Dog\n",
      "German Shepherd Dog\n",
      "Chihuahua\n",
      "West Highland White Terrier / Westie\n",
      "Boxer\n",
      "Husky\n",
      "Husky\n",
      "Staffordshire Bull Terrier\n",
      "Dachshund\n",
      "Labrador Retriever\n",
      "German Shepherd Dog\n",
      "Husky\n",
      "Dutch Shepherd\n",
      "Husky\n",
      "Retriever\n",
      "Cattle Dog\n",
      "Leonberger\n",
      "Pit Bull Terrier\n",
      "German Shepherd Dog\n",
      "German Shepherd Dog\n",
      "Pit Bull Terrier\n",
      "Chihuahua\n",
      "Pit Bull Terrier\n",
      "Labrador Retriever\n",
      "Siberian Husky\n",
      "Labrador Retriever\n",
      "Pit Bull Terrier\n",
      "Pit Bull Terrier\n",
      "Australian Kelpie\n",
      "Rottweiler\n",
      "Pit Bull Terrier\n",
      "Great Dane\n",
      "German Shepherd Dog\n",
      "Border Collie\n",
      "Australian Cattle Dog / Blue Heeler\n",
      "Pit Bull Terrier\n",
      "Pit Bull Terrier\n",
      "Staffordshire Bull Terrier\n",
      "Australian Cattle Dog / Blue Heeler\n",
      "Siberian Husky\n",
      "Terrier\n",
      "Australian Cattle Dog / Blue Heeler\n",
      "German Shepherd Dog\n",
      "Pit Bull Terrier\n",
      "Pit Bull Terrier\n",
      "Labrador Retriever\n",
      "Pit Bull Terrier\n",
      "Cane Corso\n",
      "Staffordshire Bull Terrier\n",
      "German Shepherd Dog\n",
      "English Pointer\n",
      "German Shepherd Dog\n",
      "Pit Bull Terrier\n",
      "Great Pyrenees\n",
      "Labrador Retriever\n",
      "Staffordshire Bull Terrier\n",
      "Pit Bull Terrier\n",
      "Labrador Retriever\n",
      "Staffordshire Bull Terrier\n",
      "Doberman Pinscher\n",
      "Australian Cattle Dog / Blue Heeler\n",
      "Pit Bull Terrier\n",
      "Boxer\n",
      "German Shepherd Dog\n",
      "Poodle\n",
      "Border Collie\n",
      "Boxer\n",
      "Catahoula Leopard Dog\n",
      "Jindo\n",
      "Cattle Dog\n",
      "Pit Bull Terrier\n",
      "Border Collie\n",
      "Plott Hound\n",
      "Australian Cattle Dog / Blue Heeler\n",
      "Labrador Retriever\n",
      "Labrador Retriever\n",
      "Labrador Retriever\n",
      "Pug\n",
      "Pug\n",
      "Poodle\n",
      "Labrador Retriever\n",
      "Norfolk Terrier\n",
      "Chihuahua\n",
      "Beagle\n",
      "Beagle\n",
      "Chihuahua\n",
      "Beagle\n",
      "Beagle\n"
     ]
    }
   ],
   "source": [
    "#string\n",
    "getBreeds()"
   ]
  },
  {
   "cell_type": "code",
   "execution_count": null,
   "metadata": {},
   "outputs": [],
   "source": []
  }
 ],
 "metadata": {
  "kernelspec": {
   "display_name": "Python 3",
   "language": "python",
   "name": "python3"
  },
  "language_info": {
   "codemirror_mode": {
    "name": "ipython",
    "version": 3
   },
   "file_extension": ".py",
   "mimetype": "text/x-python",
   "name": "python",
   "nbconvert_exporter": "python",
   "pygments_lexer": "ipython3",
   "version": "3.8.0"
  }
 },
 "nbformat": 4,
 "nbformat_minor": 4
}
