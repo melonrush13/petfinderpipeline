{
 "cells": [
  {
   "cell_type": "code",
   "execution_count": 3,
   "metadata": {},
   "outputs": [],
   "source": [
    "# Notebook Summary\n",
    "# The Shelter Animal Count is a national database of sheltered animal statistics. This dataset is specifically for 2012.\n",
    "#"
   ]
  },
  {
   "cell_type": "code",
   "execution_count": 2,
   "metadata": {},
   "outputs": [],
   "source": [
    "key = os.getenv('PF_KEY')\n",
    "secret = os.getenv('PF_SECRET_KEY')"
   ]
  },
  {
   "cell_type": "code",
   "execution_count": 4,
   "metadata": {},
   "outputs": [],
   "source": [
    "import pandas as pd\n",
    "import csv"
   ]
  },
  {
   "cell_type": "code",
   "execution_count": 7,
   "metadata": {},
   "outputs": [
    {
     "name": "stdout",
     "output_type": "stream",
     "text": [
      "<class 'pandas.core.frame.DataFrame'>\n",
      "RangeIndex: 1579 entries, 0 to 1578\n",
      "Columns: 101 entries, EIN to Ending Total Feline\n",
      "dtypes: int64(91), object(10)\n",
      "memory usage: 1.2+ MB\n"
     ]
    }
   ],
   "source": [
    "data = \"..//data/SAC_2012.csv\"\n",
    "sac = pd.read_csv(data)\n",
    "sac.info()"
   ]
  },
  {
   "cell_type": "code",
   "execution_count": 35,
   "metadata": {},
   "outputs": [
    {
     "name": "stdout",
     "output_type": "stream",
     "text": [
      "Organization Cols:  1579\n",
      "Number of Organizations:  102\n",
      "States:  ['GA' 'TX' 'NC' 'WA' 'MA' 'FL' 'VA' 'LA' 'OR' 'CA' 'MS' 'AZ' 'MI' 'SC'\n",
      " 'WI' 'IL' 'NY' 'MO' 'KY' 'IN' 'UT' 'KS' 'NH' 'ID' 'TN' 'OH' 'NV' 'PA'\n",
      " 'NE' 'AL' 'MT' 'CO' 'WY' 'OK' 'AK']\n",
      "Total States:  35\n"
     ]
    }
   ],
   "source": [
    "df = pd.DataFrame()\n",
    "organizations = sac['Organization Name']\n",
    "uniqueOrganizations = organizations.unique()\n",
    "\n",
    "# Number of Organization Entries\n",
    "print(\"Organization Cols: \", len(organizations))\n",
    "\n",
    "# Total Number of Shelters/Organizations\n",
    "print(\"Number of Organizations: \", len(uniqueOrganizations))\n",
    "\n",
    "\n",
    "states = sac['Location State']\n",
    "print(\"States: \", states.unique())\n",
    "print(\"Total States: \", len(states.unique()))"
   ]
  },
  {
   "cell_type": "code",
   "execution_count": 45,
   "metadata": {},
   "outputs": [
    {
     "name": "stdout",
     "output_type": "stream",
     "text": [
      "Dog Total Count:  123003\n",
      "Dot Eng Count:  121793\n",
      "Cat Total Count:  146673\n",
      "Cat End Count:  146651\n"
     ]
    }
   ],
   "source": [
    "# Intake\n",
    "\n",
    "# Types: 'Stray at large', 'relinquished by owner', 'intake owner intended euthanasia', 'transfered in', 'other'\n",
    "# Beginning Total Canine'\n",
    "\n",
    "\n"
   ]
  },
  {
   "cell_type": "code",
   "execution_count": 62,
   "metadata": {},
   "outputs": [
    {
     "data": {
      "image/png": "[encoded data removed]",
      "text/plain": [
       "<Figure size 432x288 with 1 Axes>"
      ]
     },
     "metadata": {},
     "output_type": "display_data"
    },
    {
     "name": "stdout",
     "output_type": "stream",
     "text": [
      "Dog Intake Count:  123003\n",
      "Cat Intake Count:  146673\n"
     ]
    },
    {
     "data": {
      "image/png": "[encoded data removed]",
      "text/plain": [
       "<Figure size 432x288 with 1 Axes>"
      ]
     },
     "metadata": {},
     "output_type": "display_data"
    },
    {
     "name": "stdout",
     "output_type": "stream",
     "text": [
      "Dot Eng Count:  121793\n",
      "Cat End Count:  146651\n"
     ]
    }
   ],
   "source": [
    "import matplotlib.pyplot as plt\n",
    "\n",
    "# Summary: Total Dog/Cat Intake and Dog/Cat Outcomes in 2012\n",
    "# Summary: There are a larger number of cats coming into shelters than dogs\n",
    "\n",
    "# Intake\n",
    "begCountD = sum(sac['Beginning Total Canine'])\n",
    "begCountC = sum(sac['Beginning Total Feline'])\n",
    "totalSum = begCountD + begCountC\n",
    "percD = begCountD/totalSum\n",
    "percC = begCountC/totalSum\n",
    "\n",
    "x = [percD, percC] \n",
    "y = ['Dogs Intake', 'Cat Intake']\n",
    "plt.pie(x, labels = y)\n",
    "plt.title(\"Animal Intake Count\")\n",
    "plt.show()\n",
    "\n",
    "print(\"Dog Intake Count: \", begCountD)\n",
    "print(\"Cat Intake Count: \", begCountC)\n",
    "\n",
    "\n",
    "# Outcome\n",
    "endCountD = sum(sac['Ending Total Canine'])\n",
    "endCountC = sum(sac['Ending Total Feline'])\n",
    "totalSumOutcome = endCountD + endCountC\n",
    "percDOutcome = endCountD/totalSumOutcome\n",
    "percCOutcome = endCountC/totalSumOutcome\n",
    "\n",
    "x = [percDOutcome, percCOutcome] \n",
    "y = ['Dogs Intake', 'Cat Intake']\n",
    "plt.pie(x, labels = y)\n",
    "plt.title(\"Animal Outcome Count\")\n",
    "plt.show()\n",
    "\n",
    "print(\"Dot Eng Count: \", endCountD)\n",
    "print(\"Cat End Count: \", endCountC)"
   ]
  },
  {
   "cell_type": "code",
   "execution_count": null,
   "metadata": {},
   "outputs": [],
   "source": []
  }
 ],
 "metadata": {
  "kernelspec": {
   "display_name": "Python 3",
   "language": "python",
   "name": "python3"
  },
  "language_info": {
   "codemirror_mode": {
    "name": "ipython",
    "version": 3
   },
   "file_extension": ".py",
   "mimetype": "text/x-python",
   "name": "python",
   "nbconvert_exporter": "python",
   "pygments_lexer": "ipython3",
   "version": "3.8.0"
  }
 },
 "nbformat": 4,
 "nbformat_minor": 4
}
