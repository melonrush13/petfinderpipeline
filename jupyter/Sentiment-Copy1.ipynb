{
 "cells": [
  {
   "cell_type": "code",
   "execution_count": 10,
   "metadata": {},
   "outputs": [
    {
     "name": "stdout",
     "output_type": "stream",
     "text": [
      "100\n"
     ]
    }
   ],
   "source": [
    "import json\n",
    "\n",
    "file = '..//data/jsonpull/531.json'\n",
    "\n",
    "# Get animalData from our JSON file\n",
    "with open(file, encoding='utf-8-sig') as jsonFile:\n",
    "    data = json.load(jsonFile)\n",
    "    animalData = (data[\"animals\"])\n",
    "    \n",
    "    print(len(animalData))"
   ]
  },
  {
   "cell_type": "code",
   "execution_count": 11,
   "metadata": {},
   "outputs": [
    {
     "name": "stdout",
     "output_type": "stream",
     "text": [
      "Sentiment(polarity=1.0, subjectivity=1.0)\n"
     ]
    }
   ],
   "source": [
    "from textblob import TextBlob\n",
    "\n",
    "# TextBlob Sentiment Analyzer \n",
    "\n",
    "# Polarity\n",
    "# Range [-1.0, 1.0] where -1.0 is negative polarity and 1.0 is positive polarity\n",
    "# polarity (def): emotional states such as enjoyment, anger, disgust, sadness, fear and surprise\n",
    "\n",
    "# Subjectivity\n",
    "# Range [0.0, 1.0] where 0.0 is objective and 1.0 is subjective\n",
    "# objective (def): not influenced by personal feelings. logical\n",
    "# subjective (def): influenced by personal feelings. emotional\n",
    "\n",
    "# Test TextBlob\n",
    "text = \"I am so happy today!\"\n",
    "analysis = TextBlob(text).sentiment\n",
    "\n",
    "print(analysis)\n"
   ]
  },
  {
   "cell_type": "code",
   "execution_count": 12,
   "metadata": {},
   "outputs": [
    {
     "name": "stdout",
     "output_type": "stream",
     "text": [
      "<class 'pandas.core.frame.DataFrame'>\n",
      "Index: 0 entries\n",
      "Data columns (total 5 columns):\n",
      " #   Column        Non-Null Count  Dtype \n",
      "---  ------        --------------  ----- \n",
      " 0   ID            0 non-null      object\n",
      " 1   Breed         0 non-null      object\n",
      " 2   Description   0 non-null      object\n",
      " 3   Polarity      0 non-null      object\n",
      " 4   Subjectivity  0 non-null      object\n",
      "dtypes: object(5)\n",
      "memory usage: 0.0+ bytes\n"
     ]
    }
   ],
   "source": [
    "import csv\n",
    "import pandas as pd\n",
    "\n",
    "csvFile = \"SentimentAnalysisOnBreeds2.csv\"\n",
    "\n",
    "with open(csvFile, 'w', newline='') as file:\n",
    "    # create a new CSV file\n",
    "    writerObj = csv.writer(file)\n",
    "    # add the following rows to CSV file\n",
    "    writerObj.writerow(['ID','Breed','Description','Polarity','Subjectivity'])\n",
    "    \n",
    "breedsCSV = pd.read_csv(csvFile)\n",
    "breedsCSV.info()"
   ]
  },
  {
   "cell_type": "code",
   "execution_count": 13,
   "metadata": {},
   "outputs": [],
   "source": [
    "# Performs Sentiment Analysis on item 2 of List\n",
    "# Returns a list back with scores of sentiment saved item 3(polarity) and 4(subjectivity)\n",
    "def sentAnalysis(List):  \n",
    "    \n",
    "    # grab the description from the 3rd list item\n",
    "    desc = List[2]\n",
    "    \n",
    "    # As long as it's not empty, perform sentiment analysis\n",
    "    if desc is not None:\n",
    "        \n",
    "        # if the length of the string is 7, we know its a string of numbers\n",
    "        # it could also be an empty string, so we will say anything less than length 8\n",
    "        # we don't want to do sentiment analysis here\n",
    "        if (len(desc) < 8):\n",
    "           return List\n",
    "               \n",
    "            \n",
    "        # do sentiment analysis on the description\n",
    "        blob = TextBlob(desc)\n",
    "        polarity = blob.polarity\n",
    "        subjectivity = blob.subjectivity\n",
    "        \n",
    "        # assign sentiment analysis results to list values \n",
    "        List[3] = polarity\n",
    "        List[4] = subjectivity\n",
    "        \n",
    "        return List\n",
    "\n",
    "    # if the type is of type none, we return the list\n",
    "    return List\n",
    "    "
   ]
  },
  {
   "cell_type": "code",
   "execution_count": 14,
   "metadata": {},
   "outputs": [],
   "source": [
    "from csv import writer\n",
    "\n",
    "# This loop takes the parameters we want out of animalData (id,breed,description) and puts them into a new list for each pet\n",
    "# Append the newly created list to our csv file created above for further data manipulation\n",
    "\n",
    "for pet in animalData:\n",
    "    # attributes we will add to our csv file\n",
    "    List = [(pet['id']), (pet['breeds']['primary']),(pet['description']), None, None ]\n",
    "    \n",
    "    sentAnalysis(List)\n",
    "\n",
    "    # Open existing CSV file in append mode\n",
    "    # Create a file object for the file\n",
    "    with open(csvFile, 'a') as file:\n",
    "        \n",
    "        # pass file object to csv.writer()\n",
    "        # get a writer object\n",
    "        writerObj = writer(file)\n",
    "        \n",
    "        # pass the list as an argument to writerow()\n",
    "        writerObj.writerow(List)\n",
    "        \n",
    "        # close file\n",
    "        file.close()\n",
    "    "
   ]
  },
  {
   "cell_type": "code",
   "execution_count": 21,
   "metadata": {},
   "outputs": [
    {
     "name": "stdout",
     "output_type": "stream",
     "text": [
      "Average Polarity:  0.22646316212722462\n",
      "Average Subjectivity:  0.4241936477873975\n"
     ]
    }
   ],
   "source": [
    "import pandas as pd\n",
    "import matplotlib.pyplot as plt\n",
    "\n",
    "data = pd.read_csv(csvFile)\n",
    "df = pd.DataFrame(data)\n",
    "\n",
    "# remove all rows with at least one field of missing data\n",
    "newDF = df.dropna()\n",
    "\n",
    "# Polarity\n",
    "pol = newDF['Polarity']\n",
    "lenPol = len(pol)\n",
    "sumPol = sum(pol)\n",
    "avgPol = sumPol / lenPol\n",
    "\n",
    "print(\"Average Polarity: \", avgPol)\n",
    "\n",
    "# Subjectivity\n",
    "sub = newDF['Subjectivity']\n",
    "lenSub = len(sub)\n",
    "sumSub = sum(sub)\n",
    "avgSub = sumSub / lenSub\n",
    "\n",
    "print(\"Average Subjectivity: \", avgSub)"
   ]
  },
  {
   "cell_type": "code",
   "execution_count": 22,
   "metadata": {},
   "outputs": [
    {
     "data": {
      "text/html": [
       "<div>\n",
       "<style scoped>\n",
       "    .dataframe tbody tr th:only-of-type {\n",
       "        vertical-align: middle;\n",
       "    }\n",
       "\n",
       "    .dataframe tbody tr th {\n",
       "        vertical-align: top;\n",
       "    }\n",
       "\n",
       "    .dataframe thead tr th {\n",
       "        text-align: left;\n",
       "    }\n",
       "\n",
       "    .dataframe thead tr:last-of-type th {\n",
       "        text-align: right;\n",
       "    }\n",
       "</style>\n",
       "<table border=\"1\" class=\"dataframe\">\n",
       "  <thead>\n",
       "    <tr>\n",
       "      <th></th>\n",
       "      <th colspan=\"2\" halign=\"left\">mean</th>\n",
       "    </tr>\n",
       "    <tr>\n",
       "      <th></th>\n",
       "      <th>Polarity</th>\n",
       "      <th>Subjectivity</th>\n",
       "    </tr>\n",
       "    <tr>\n",
       "      <th>Breed</th>\n",
       "      <th></th>\n",
       "      <th></th>\n",
       "    </tr>\n",
       "  </thead>\n",
       "  <tbody>\n",
       "    <tr>\n",
       "      <th>American Staffordshire Terrier</th>\n",
       "      <td>0.435000</td>\n",
       "      <td>0.681667</td>\n",
       "    </tr>\n",
       "    <tr>\n",
       "      <th>Australian Cattle Dog / Blue Heeler</th>\n",
       "      <td>0.225648</td>\n",
       "      <td>0.458981</td>\n",
       "    </tr>\n",
       "    <tr>\n",
       "      <th>Australian Kelpie</th>\n",
       "      <td>0.150000</td>\n",
       "      <td>0.400000</td>\n",
       "    </tr>\n",
       "    <tr>\n",
       "      <th>Beagle</th>\n",
       "      <td>-0.045833</td>\n",
       "      <td>0.220833</td>\n",
       "    </tr>\n",
       "    <tr>\n",
       "      <th>Bernese Mountain Dog</th>\n",
       "      <td>0.143750</td>\n",
       "      <td>0.518750</td>\n",
       "    </tr>\n",
       "    <tr>\n",
       "      <th>Black Labrador Retriever</th>\n",
       "      <td>1.000000</td>\n",
       "      <td>1.000000</td>\n",
       "    </tr>\n",
       "    <tr>\n",
       "      <th>Border Collie</th>\n",
       "      <td>0.437500</td>\n",
       "      <td>0.533333</td>\n",
       "    </tr>\n",
       "    <tr>\n",
       "      <th>Boxer</th>\n",
       "      <td>0.625000</td>\n",
       "      <td>0.950000</td>\n",
       "    </tr>\n",
       "    <tr>\n",
       "      <th>Catahoula Leopard Dog</th>\n",
       "      <td>0.500000</td>\n",
       "      <td>0.725000</td>\n",
       "    </tr>\n",
       "    <tr>\n",
       "      <th>Cattle Dog</th>\n",
       "      <td>0.098437</td>\n",
       "      <td>0.300000</td>\n",
       "    </tr>\n",
       "    <tr>\n",
       "      <th>Chihuahua</th>\n",
       "      <td>-0.020000</td>\n",
       "      <td>0.411667</td>\n",
       "    </tr>\n",
       "    <tr>\n",
       "      <th>Chow Chow</th>\n",
       "      <td>0.600000</td>\n",
       "      <td>0.950000</td>\n",
       "    </tr>\n",
       "    <tr>\n",
       "      <th>English Pointer</th>\n",
       "      <td>0.120952</td>\n",
       "      <td>0.388869</td>\n",
       "    </tr>\n",
       "    <tr>\n",
       "      <th>English Shepherd</th>\n",
       "      <td>0.250000</td>\n",
       "      <td>0.300000</td>\n",
       "    </tr>\n",
       "    <tr>\n",
       "      <th>German Shepherd Dog</th>\n",
       "      <td>0.204978</td>\n",
       "      <td>0.437910</td>\n",
       "    </tr>\n",
       "    <tr>\n",
       "      <th>German Wirehaired Pointer</th>\n",
       "      <td>0.625000</td>\n",
       "      <td>0.600000</td>\n",
       "    </tr>\n",
       "    <tr>\n",
       "      <th>Great Dane</th>\n",
       "      <td>0.014286</td>\n",
       "      <td>0.145238</td>\n",
       "    </tr>\n",
       "    <tr>\n",
       "      <th>Great Pyrenees</th>\n",
       "      <td>0.088333</td>\n",
       "      <td>0.374167</td>\n",
       "    </tr>\n",
       "    <tr>\n",
       "      <th>Husky</th>\n",
       "      <td>0.038310</td>\n",
       "      <td>0.235619</td>\n",
       "    </tr>\n",
       "    <tr>\n",
       "      <th>Labrador Retriever</th>\n",
       "      <td>0.276203</td>\n",
       "      <td>0.414411</td>\n",
       "    </tr>\n",
       "    <tr>\n",
       "      <th>Leonberger</th>\n",
       "      <td>0.107143</td>\n",
       "      <td>0.264286</td>\n",
       "    </tr>\n",
       "    <tr>\n",
       "      <th>Mastiff</th>\n",
       "      <td>0.300000</td>\n",
       "      <td>0.712500</td>\n",
       "    </tr>\n",
       "    <tr>\n",
       "      <th>Mixed Breed</th>\n",
       "      <td>0.075000</td>\n",
       "      <td>0.204167</td>\n",
       "    </tr>\n",
       "    <tr>\n",
       "      <th>Pit Bull Terrier</th>\n",
       "      <td>0.241250</td>\n",
       "      <td>0.367500</td>\n",
       "    </tr>\n",
       "    <tr>\n",
       "      <th>Poodle</th>\n",
       "      <td>0.200000</td>\n",
       "      <td>0.350000</td>\n",
       "    </tr>\n",
       "    <tr>\n",
       "      <th>Rottweiler</th>\n",
       "      <td>-0.034821</td>\n",
       "      <td>0.211607</td>\n",
       "    </tr>\n",
       "    <tr>\n",
       "      <th>Schnauzer</th>\n",
       "      <td>-0.015000</td>\n",
       "      <td>0.600000</td>\n",
       "    </tr>\n",
       "    <tr>\n",
       "      <th>Shepherd</th>\n",
       "      <td>0.362500</td>\n",
       "      <td>0.473750</td>\n",
       "    </tr>\n",
       "    <tr>\n",
       "      <th>Siberian Husky</th>\n",
       "      <td>0.198958</td>\n",
       "      <td>0.558333</td>\n",
       "    </tr>\n",
       "    <tr>\n",
       "      <th>Terrier</th>\n",
       "      <td>0.500000</td>\n",
       "      <td>0.500000</td>\n",
       "    </tr>\n",
       "    <tr>\n",
       "      <th>Average</th>\n",
       "      <td>0.226463</td>\n",
       "      <td>0.424194</td>\n",
       "    </tr>\n",
       "  </tbody>\n",
       "</table>\n",
       "</div>"
      ],
      "text/plain": [
       "                                         mean             \n",
       "                                     Polarity Subjectivity\n",
       "Breed                                                     \n",
       "American Staffordshire Terrier       0.435000     0.681667\n",
       "Australian Cattle Dog / Blue Heeler  0.225648     0.458981\n",
       "Australian Kelpie                    0.150000     0.400000\n",
       "Beagle                              -0.045833     0.220833\n",
       "Bernese Mountain Dog                 0.143750     0.518750\n",
       "Black Labrador Retriever             1.000000     1.000000\n",
       "Border Collie                        0.437500     0.533333\n",
       "Boxer                                0.625000     0.950000\n",
       "Catahoula Leopard Dog                0.500000     0.725000\n",
       "Cattle Dog                           0.098437     0.300000\n",
       "Chihuahua                           -0.020000     0.411667\n",
       "Chow Chow                            0.600000     0.950000\n",
       "English Pointer                      0.120952     0.388869\n",
       "English Shepherd                     0.250000     0.300000\n",
       "German Shepherd Dog                  0.204978     0.437910\n",
       "German Wirehaired Pointer            0.625000     0.600000\n",
       "Great Dane                           0.014286     0.145238\n",
       "Great Pyrenees                       0.088333     0.374167\n",
       "Husky                                0.038310     0.235619\n",
       "Labrador Retriever                   0.276203     0.414411\n",
       "Leonberger                           0.107143     0.264286\n",
       "Mastiff                              0.300000     0.712500\n",
       "Mixed Breed                          0.075000     0.204167\n",
       "Pit Bull Terrier                     0.241250     0.367500\n",
       "Poodle                               0.200000     0.350000\n",
       "Rottweiler                          -0.034821     0.211607\n",
       "Schnauzer                           -0.015000     0.600000\n",
       "Shepherd                             0.362500     0.473750\n",
       "Siberian Husky                       0.198958     0.558333\n",
       "Terrier                              0.500000     0.500000\n",
       "Average                              0.226463     0.424194"
      ]
     },
     "execution_count": 22,
     "metadata": {},
     "output_type": "execute_result"
    }
   ],
   "source": [
    "# Create a pivot table to show mean polarity and subjectivity by breed\n",
    "# Average polarity and subjectivity at the bottom\n",
    "pivotTable = pd.pivot_table(newDF, index='Breed', values=['Polarity','Subjectivity'], aggfunc=['mean'], margins=True, margins_name='Average')\n",
    "pivotTable"
   ]
  },
  {
   "cell_type": "code",
   "execution_count": 23,
   "metadata": {},
   "outputs": [
    {
     "data": {
      "image/png": "[encoded data removed]",
      "text/plain": [
       "<Figure size 432x288 with 1 Axes>"
      ]
     },
     "metadata": {
      "needs_background": "light"
     },
     "output_type": "display_data"
    }
   ],
   "source": [
    "# Compare Daachshunds, Pitbulls, and Bordie Collies in a Bar Chart\n",
    "data = ['-0.100000','0.269410','0.458788']\n",
    "labels = ['Dachshund','Pitbull Terrier','Border Collie']\n",
    "\n",
    "plt.xticks(range(len(data)), labels)\n",
    "plt.yticks([-1,0,1])\n",
    "plt.xlabel('Breed')\n",
    "plt.ylabel('Score')\n",
    "plt.title('Sentiment Analysis Across Breeds')\n",
    "plt.bar(range(len(data)), data) \n",
    "plt.show()"
   ]
  },
  {
   "cell_type": "code",
   "execution_count": 24,
   "metadata": {},
   "outputs": [
    {
     "data": {
      "text/plain": [
       "<AxesSubplot:xlabel='Breed'>"
      ]
     },
     "execution_count": 24,
     "metadata": {},
     "output_type": "execute_result"
    },
    {
     "data": {
      "image/png": "[encoded data removed]",
      "text/plain": [
       "<Figure size 432x288 with 1 Axes>"
      ]
     },
     "metadata": {
      "needs_background": "light"
     },
     "output_type": "display_data"
    }
   ],
   "source": [
    "# Show Bar Chart of all Breeds and their scores\n",
    "pivotTable.plot(kind='bar')"
   ]
  },
  {
   "cell_type": "code",
   "execution_count": null,
   "metadata": {},
   "outputs": [],
   "source": []
  },
  {
   "cell_type": "code",
   "execution_count": null,
   "metadata": {},
   "outputs": [],
   "source": [
    "`"
   ]
  }
 ],
 "metadata": {
  "kernelspec": {
   "display_name": "Python 3",
   "language": "python",
   "name": "python3"
  },
  "language_info": {
   "codemirror_mode": {
    "name": "ipython",
    "version": 3
   },
   "file_extension": ".py",
   "mimetype": "text/x-python",
   "name": "python",
   "nbconvert_exporter": "python",
   "pygments_lexer": "ipython3",
   "version": "3.8.0"
  }
 },
 "nbformat": 4,
 "nbformat_minor": 4
}
